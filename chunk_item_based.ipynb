{
 "cells": [
  {
   "cell_type": "code",
   "execution_count": 5,
   "id": "b4dec3bd",
   "metadata": {},
   "outputs": [],
   "source": [
    "import numpy as np \n",
    "import pandas as pd\n",
    "import time"
   ]
  },
  {
   "cell_type": "code",
   "execution_count": 6,
   "id": "7c8513eb",
   "metadata": {},
   "outputs": [
    {
     "name": "stderr",
     "output_type": "stream",
     "text": [
      "C:\\Users\\badol\\AppData\\Local\\Programs\\Python\\Python310\\lib\\site-packages\\IPython\\core\\interactiveshell.py:3457: FutureWarning: The error_bad_lines argument has been deprecated and will be removed in a future version.\n",
      "\n",
      "\n",
      "  exec(code_obj, self.user_global_ns, self.user_ns)\n",
      "b'Skipping line 6452: expected 8 fields, saw 9\\n'\n"
     ]
    },
    {
     "name": "stdout",
     "output_type": "stream",
     "text": [
      "with chunks :  0.020006656646728516  sec\n"
     ]
    },
    {
     "name": "stderr",
     "output_type": "stream",
     "text": [
      "b'Skipping line 43667: expected 8 fields, saw 10\\n'\n",
      "b'Skipping line 51751: expected 8 fields, saw 9\\n'\n",
      "b'Skipping line 92038: expected 8 fields, saw 9\\n'\n",
      "b'Skipping line 104319: expected 8 fields, saw 9\\n'\n",
      "b'Skipping line 121768: expected 8 fields, saw 9\\n'\n",
      "b'Skipping line 144058: expected 8 fields, saw 9\\n'\n",
      "b'Skipping line 150789: expected 8 fields, saw 9\\n'\n",
      "b'Skipping line 157128: expected 8 fields, saw 9\\n'\n",
      "b'Skipping line 180189: expected 8 fields, saw 9\\n'\n",
      "b'Skipping line 185738: expected 8 fields, saw 9\\n'\n",
      "b'Skipping line 209388: expected 8 fields, saw 9\\n'\n",
      "b'Skipping line 220626: expected 8 fields, saw 9\\n'\n",
      "b'Skipping line 227933: expected 8 fields, saw 11\\n'\n",
      "b'Skipping line 228957: expected 8 fields, saw 10\\n'\n",
      "b'Skipping line 245933: expected 8 fields, saw 9\\n'\n",
      "b'Skipping line 251296: expected 8 fields, saw 9\\n'\n",
      "b'Skipping line 259941: expected 8 fields, saw 9\\n'\n",
      "b'Skipping line 261529: expected 8 fields, saw 9\\n'\n"
     ]
    },
    {
     "data": {
      "text/html": [
       "<div>\n",
       "<style scoped>\n",
       "    .dataframe tbody tr th:only-of-type {\n",
       "        vertical-align: middle;\n",
       "    }\n",
       "\n",
       "    .dataframe tbody tr th {\n",
       "        vertical-align: top;\n",
       "    }\n",
       "\n",
       "    .dataframe thead th {\n",
       "        text-align: right;\n",
       "    }\n",
       "</style>\n",
       "<table border=\"1\" class=\"dataframe\">\n",
       "  <thead>\n",
       "    <tr style=\"text-align: right;\">\n",
       "      <th></th>\n",
       "      <th>ISBN</th>\n",
       "      <th>Book-Title</th>\n",
       "      <th>Book-Author</th>\n",
       "      <th>Year-Of-Publication</th>\n",
       "      <th>Publisher</th>\n",
       "      <th>Image-URL-S</th>\n",
       "      <th>Image-URL-M</th>\n",
       "      <th>Image-URL-L</th>\n",
       "    </tr>\n",
       "  </thead>\n",
       "  <tbody>\n",
       "    <tr>\n",
       "      <th>18133</th>\n",
       "      <td>0886778212</td>\n",
       "      <td>Mob Magic</td>\n",
       "      <td>Brian Thomsen</td>\n",
       "      <td>1998</td>\n",
       "      <td>Daw Books</td>\n",
       "      <td>http://images.amazon.com/images/P/0886778212.0...</td>\n",
       "      <td>http://images.amazon.com/images/P/0886778212.0...</td>\n",
       "      <td>http://images.amazon.com/images/P/0886778212.0...</td>\n",
       "    </tr>\n",
       "    <tr>\n",
       "      <th>116869</th>\n",
       "      <td>3499223635</td>\n",
       "      <td>Engel im Schnee.</td>\n",
       "      <td>Stewart ONan</td>\n",
       "      <td>1998</td>\n",
       "      <td>Rowohlt Tb.</td>\n",
       "      <td>http://images.amazon.com/images/P/3499223635.0...</td>\n",
       "      <td>http://images.amazon.com/images/P/3499223635.0...</td>\n",
       "      <td>http://images.amazon.com/images/P/3499223635.0...</td>\n",
       "    </tr>\n",
       "    <tr>\n",
       "      <th>197563</th>\n",
       "      <td>3552039082</td>\n",
       "      <td>VerrÃ¤ter leben lÃ¤nger: Roman</td>\n",
       "      <td>Richard Lourie</td>\n",
       "      <td>1987</td>\n",
       "      <td>Zsolnay</td>\n",
       "      <td>http://images.amazon.com/images/P/3552039082.0...</td>\n",
       "      <td>http://images.amazon.com/images/P/3552039082.0...</td>\n",
       "      <td>http://images.amazon.com/images/P/3552039082.0...</td>\n",
       "    </tr>\n",
       "  </tbody>\n",
       "</table>\n",
       "</div>"
      ],
      "text/plain": [
       "              ISBN                      Book-Title     Book-Author  \\\n",
       "18133   0886778212                       Mob Magic   Brian Thomsen   \n",
       "116869  3499223635                Engel im Schnee.    Stewart ONan   \n",
       "197563  3552039082  VerrÃ¤ter leben lÃ¤nger: Roman  Richard Lourie   \n",
       "\n",
       "       Year-Of-Publication    Publisher  \\\n",
       "18133                 1998    Daw Books   \n",
       "116869                1998  Rowohlt Tb.   \n",
       "197563                1987      Zsolnay   \n",
       "\n",
       "                                              Image-URL-S  \\\n",
       "18133   http://images.amazon.com/images/P/0886778212.0...   \n",
       "116869  http://images.amazon.com/images/P/3499223635.0...   \n",
       "197563  http://images.amazon.com/images/P/3552039082.0...   \n",
       "\n",
       "                                              Image-URL-M  \\\n",
       "18133   http://images.amazon.com/images/P/0886778212.0...   \n",
       "116869  http://images.amazon.com/images/P/3499223635.0...   \n",
       "197563  http://images.amazon.com/images/P/3552039082.0...   \n",
       "\n",
       "                                              Image-URL-L  \n",
       "18133   http://images.amazon.com/images/P/0886778212.0...  \n",
       "116869  http://images.amazon.com/images/P/3499223635.0...  \n",
       "197563  http://images.amazon.com/images/P/3552039082.0...  "
      ]
     },
     "execution_count": 6,
     "metadata": {},
     "output_type": "execute_result"
    }
   ],
   "source": [
    "s_time = time.time()\n",
    "book = pd.read_csv(\"books.csv\", sep = \";\",error_bad_lines = False,encoding = \"latin-1\",chunksize = 1000)\n",
    "e_time = time.time()\n",
    "\n",
    "print(\"with chunks : \",(e_time - s_time),\" sec\")\n",
    "book = pd.concat(book)\n",
    "\n",
    "book.sample(3)"
   ]
  },
  {
   "cell_type": "code",
   "execution_count": 7,
   "id": "619c4000",
   "metadata": {},
   "outputs": [
    {
     "name": "stdout",
     "output_type": "stream",
     "text": [
      "<class 'pandas.core.frame.DataFrame'>\n",
      "RangeIndex: 271360 entries, 0 to 271359\n",
      "Data columns (total 8 columns):\n",
      " #   Column               Non-Null Count   Dtype \n",
      "---  ------               --------------   ----- \n",
      " 0   ISBN                 271360 non-null  object\n",
      " 1   Book-Title           271360 non-null  object\n",
      " 2   Book-Author          271359 non-null  object\n",
      " 3   Year-Of-Publication  271360 non-null  object\n",
      " 4   Publisher            271358 non-null  object\n",
      " 5   Image-URL-S          271360 non-null  object\n",
      " 6   Image-URL-M          271360 non-null  object\n",
      " 7   Image-URL-L          271357 non-null  object\n",
      "dtypes: object(8)\n",
      "memory usage: 16.6+ MB\n"
     ]
    }
   ],
   "source": [
    "book.info()"
   ]
  },
  {
   "cell_type": "code",
   "execution_count": 8,
   "id": "ddb3165f",
   "metadata": {},
   "outputs": [],
   "source": [
    "book.drop(['Image-URL-S','Image-URL-M'],axis = 1,inplace = True)"
   ]
  },
  {
   "cell_type": "code",
   "execution_count": 9,
   "id": "dfd26cfb",
   "metadata": {},
   "outputs": [
    {
     "name": "stdout",
     "output_type": "stream",
     "text": [
      "<class 'pandas.core.frame.DataFrame'>\n",
      "RangeIndex: 271360 entries, 0 to 271359\n",
      "Data columns (total 6 columns):\n",
      " #   Column               Non-Null Count   Dtype \n",
      "---  ------               --------------   ----- \n",
      " 0   ISBN                 271360 non-null  object\n",
      " 1   Book-Title           271360 non-null  object\n",
      " 2   Book-Author          271359 non-null  object\n",
      " 3   Year-Of-Publication  271360 non-null  object\n",
      " 4   Publisher            271358 non-null  object\n",
      " 5   Image-URL-L          271357 non-null  object\n",
      "dtypes: object(6)\n",
      "memory usage: 12.4+ MB\n"
     ]
    }
   ],
   "source": [
    "book.info()"
   ]
  },
  {
   "cell_type": "code",
   "execution_count": 10,
   "id": "4da8a2b5",
   "metadata": {},
   "outputs": [
    {
     "data": {
      "text/plain": [
       "array([2002, 2001, 1991, 1999, 2000, 1993, 1996, 1988, 2004, 1998, 1994,\n",
       "       2003, 1997, 1983, 1979, 1995, 1982, 1985, 1992, 1986, 1978, 1980,\n",
       "       1952, 1987, 1990, 1981, 1989, 1984, 0, 1968, 1961, 1958, 1974,\n",
       "       1976, 1971, 1977, 1975, 1965, 1941, 1970, 1962, 1973, 1972, 1960,\n",
       "       1966, 1920, 1956, 1959, 1953, 1951, 1942, 1963, 1964, 1969, 1954,\n",
       "       1950, 1967, 2005, 1957, 1940, 1937, 1955, 1946, 1936, 1930, 2011,\n",
       "       1925, 1948, 1943, 1947, 1945, 1923, 2020, 1939, 1926, 1938, 2030,\n",
       "       1911, 1904, 1949, 1932, 1928, 1929, 1927, 1931, 1914, 2050, 1934,\n",
       "       1910, 1933, 1902, 1924, 1921, 1900, 2038, 2026, 1944, 1917, 1901,\n",
       "       2010, 1908, 1906, 1935, 1806, 2021, 2012, 2006, '1976', '1984',\n",
       "       '2000', '2003', '1994', '1985', '1999', '2004', '1990', '1953',\n",
       "       '0', '1997', '1988', '1967', '1974', '1992', '1989', '1956',\n",
       "       '2002', '2001', '1995', '1982', '1998', '1996', '1970', '1993',\n",
       "       '1961', '1991', '1980', '1973', '1986', '1983', '1979', '1987',\n",
       "       '1981', '1978', '1972', '1940', '1971', '1977',\n",
       "       'DK Publishing Inc', '1975', '1962', '1957', '1943', '1968',\n",
       "       '1958', 'Gallimard', '1969', '1965', '1960', '1966', '2005',\n",
       "       '1920', '1909', 1909, 2008, 1378, 1919, 1922, 1897, 2024, 1376,\n",
       "       2037], dtype=object)"
      ]
     },
     "execution_count": 10,
     "metadata": {},
     "output_type": "execute_result"
    }
   ],
   "source": [
    "book[\"Year-Of-Publication\"].unique()"
   ]
  },
  {
   "cell_type": "code",
   "execution_count": 11,
   "id": "cc3a0171",
   "metadata": {},
   "outputs": [
    {
     "data": {
      "text/html": [
       "<div>\n",
       "<style scoped>\n",
       "    .dataframe tbody tr th:only-of-type {\n",
       "        vertical-align: middle;\n",
       "    }\n",
       "\n",
       "    .dataframe tbody tr th {\n",
       "        vertical-align: top;\n",
       "    }\n",
       "\n",
       "    .dataframe thead th {\n",
       "        text-align: right;\n",
       "    }\n",
       "</style>\n",
       "<table border=\"1\" class=\"dataframe\">\n",
       "  <thead>\n",
       "    <tr style=\"text-align: right;\">\n",
       "      <th></th>\n",
       "      <th>ISBN</th>\n",
       "      <th>Book-Title</th>\n",
       "      <th>Book-Author</th>\n",
       "      <th>Year-Of-Publication</th>\n",
       "      <th>Publisher</th>\n",
       "      <th>Image-URL-L</th>\n",
       "    </tr>\n",
       "  </thead>\n",
       "  <tbody>\n",
       "    <tr>\n",
       "      <th>209538</th>\n",
       "      <td>078946697X</td>\n",
       "      <td>DK Readers: Creating the X-Men, How It All Beg...</td>\n",
       "      <td>2000</td>\n",
       "      <td>DK Publishing Inc</td>\n",
       "      <td>http://images.amazon.com/images/P/078946697X.0...</td>\n",
       "      <td>NaN</td>\n",
       "    </tr>\n",
       "    <tr>\n",
       "      <th>221678</th>\n",
       "      <td>0789466953</td>\n",
       "      <td>DK Readers: Creating the X-Men, How Comic Book...</td>\n",
       "      <td>2000</td>\n",
       "      <td>DK Publishing Inc</td>\n",
       "      <td>http://images.amazon.com/images/P/0789466953.0...</td>\n",
       "      <td>NaN</td>\n",
       "    </tr>\n",
       "  </tbody>\n",
       "</table>\n",
       "</div>"
      ],
      "text/plain": [
       "              ISBN                                         Book-Title  \\\n",
       "209538  078946697X  DK Readers: Creating the X-Men, How It All Beg...   \n",
       "221678  0789466953  DK Readers: Creating the X-Men, How Comic Book...   \n",
       "\n",
       "       Book-Author Year-Of-Publication  \\\n",
       "209538        2000   DK Publishing Inc   \n",
       "221678        2000   DK Publishing Inc   \n",
       "\n",
       "                                                Publisher Image-URL-L  \n",
       "209538  http://images.amazon.com/images/P/078946697X.0...         NaN  \n",
       "221678  http://images.amazon.com/images/P/0789466953.0...         NaN  "
      ]
     },
     "execution_count": 11,
     "metadata": {},
     "output_type": "execute_result"
    }
   ],
   "source": [
    "book.loc[book[\"Year-Of-Publication\"] == 'DK Publishing Inc',:]"
   ]
  },
  {
   "cell_type": "code",
   "execution_count": 12,
   "id": "681eb30d",
   "metadata": {},
   "outputs": [
    {
     "data": {
      "text/html": [
       "<div>\n",
       "<style scoped>\n",
       "    .dataframe tbody tr th:only-of-type {\n",
       "        vertical-align: middle;\n",
       "    }\n",
       "\n",
       "    .dataframe tbody tr th {\n",
       "        vertical-align: top;\n",
       "    }\n",
       "\n",
       "    .dataframe thead th {\n",
       "        text-align: right;\n",
       "    }\n",
       "</style>\n",
       "<table border=\"1\" class=\"dataframe\">\n",
       "  <thead>\n",
       "    <tr style=\"text-align: right;\">\n",
       "      <th></th>\n",
       "      <th>ISBN</th>\n",
       "      <th>Book-Title</th>\n",
       "      <th>Book-Author</th>\n",
       "      <th>Year-Of-Publication</th>\n",
       "      <th>Publisher</th>\n",
       "      <th>Image-URL-L</th>\n",
       "    </tr>\n",
       "  </thead>\n",
       "  <tbody>\n",
       "    <tr>\n",
       "      <th>220731</th>\n",
       "      <td>2070426769</td>\n",
       "      <td>Peuple du ciel, suivi de 'Les Bergers\\\";Jean-M...</td>\n",
       "      <td>2003</td>\n",
       "      <td>Gallimard</td>\n",
       "      <td>http://images.amazon.com/images/P/2070426769.0...</td>\n",
       "      <td>NaN</td>\n",
       "    </tr>\n",
       "  </tbody>\n",
       "</table>\n",
       "</div>"
      ],
      "text/plain": [
       "              ISBN                                         Book-Title  \\\n",
       "220731  2070426769  Peuple du ciel, suivi de 'Les Bergers\\\";Jean-M...   \n",
       "\n",
       "       Book-Author Year-Of-Publication  \\\n",
       "220731        2003           Gallimard   \n",
       "\n",
       "                                                Publisher Image-URL-L  \n",
       "220731  http://images.amazon.com/images/P/2070426769.0...         NaN  "
      ]
     },
     "execution_count": 12,
     "metadata": {},
     "output_type": "execute_result"
    }
   ],
   "source": [
    "book.loc[book[\"Year-Of-Publication\"] == 'Gallimard',:]"
   ]
  },
  {
   "cell_type": "code",
   "execution_count": 13,
   "id": "85ced58a",
   "metadata": {},
   "outputs": [],
   "source": [
    "book = book[(book[\"Year-Of-Publication\"] != 'DK Publishing Inc') & (book[\"Year-Of-Publication\"] != 'Gallimard')]"
   ]
  },
  {
   "cell_type": "code",
   "execution_count": 14,
   "id": "950e0e9e",
   "metadata": {},
   "outputs": [
    {
     "data": {
      "text/plain": [
       "ISBN                   object\n",
       "Book-Title             object\n",
       "Book-Author            object\n",
       "Year-Of-Publication    object\n",
       "Publisher              object\n",
       "Image-URL-L            object\n",
       "dtype: object"
      ]
     },
     "execution_count": 14,
     "metadata": {},
     "output_type": "execute_result"
    }
   ],
   "source": [
    "book.dtypes"
   ]
  },
  {
   "cell_type": "code",
   "execution_count": 15,
   "id": "4e9e829d",
   "metadata": {},
   "outputs": [
    {
     "data": {
      "text/plain": [
       "2"
      ]
     },
     "execution_count": 15,
     "metadata": {},
     "output_type": "execute_result"
    }
   ],
   "source": [
    "book[\"Publisher\"].isnull().sum()"
   ]
  },
  {
   "cell_type": "code",
   "execution_count": 16,
   "id": "d033599f",
   "metadata": {},
   "outputs": [],
   "source": [
    "book = book.dropna(subset = [\"Publisher\"])"
   ]
  },
  {
   "cell_type": "code",
   "execution_count": 17,
   "id": "f61cc444",
   "metadata": {},
   "outputs": [
    {
     "data": {
      "text/plain": [
       "0"
      ]
     },
     "execution_count": 17,
     "metadata": {},
     "output_type": "execute_result"
    }
   ],
   "source": [
    "book[\"Publisher\"].isnull().sum()"
   ]
  },
  {
   "cell_type": "code",
   "execution_count": 18,
   "id": "f7d6a48e",
   "metadata": {},
   "outputs": [
    {
     "data": {
      "text/plain": [
       "0"
      ]
     },
     "execution_count": 18,
     "metadata": {},
     "output_type": "execute_result"
    }
   ],
   "source": [
    "book[\"Book-Title\"].isnull().sum()"
   ]
  },
  {
   "cell_type": "code",
   "execution_count": 19,
   "id": "8dd40911",
   "metadata": {},
   "outputs": [
    {
     "data": {
      "text/plain": [
       "1"
      ]
     },
     "execution_count": 19,
     "metadata": {},
     "output_type": "execute_result"
    }
   ],
   "source": [
    "book[\"Book-Author\"].isnull().sum()"
   ]
  },
  {
   "cell_type": "code",
   "execution_count": 20,
   "id": "29bef1da",
   "metadata": {},
   "outputs": [],
   "source": [
    "book = book.dropna(subset = [\"Book-Author\"])"
   ]
  },
  {
   "cell_type": "code",
   "execution_count": 21,
   "id": "04f91c21",
   "metadata": {},
   "outputs": [
    {
     "data": {
      "text/plain": [
       "ISBN                   object\n",
       "Book-Title             object\n",
       "Book-Author            object\n",
       "Year-Of-Publication    object\n",
       "Publisher              object\n",
       "Image-URL-L            object\n",
       "dtype: object"
      ]
     },
     "execution_count": 21,
     "metadata": {},
     "output_type": "execute_result"
    }
   ],
   "source": [
    "book.dtypes"
   ]
  },
  {
   "cell_type": "code",
   "execution_count": 22,
   "id": "56cbd76f",
   "metadata": {},
   "outputs": [],
   "source": [
    "book['Year-Of-Publication'] = book['Year-Of-Publication'].apply(str)"
   ]
  },
  {
   "cell_type": "code",
   "execution_count": 23,
   "id": "cfa88566",
   "metadata": {},
   "outputs": [
    {
     "data": {
      "text/plain": [
       "ISBN                   object\n",
       "Book-Title             object\n",
       "Book-Author            object\n",
       "Year-Of-Publication    object\n",
       "Publisher              object\n",
       "Image-URL-L            object\n",
       "dtype: object"
      ]
     },
     "execution_count": 23,
     "metadata": {},
     "output_type": "execute_result"
    }
   ],
   "source": [
    "book.dtypes"
   ]
  },
  {
   "cell_type": "code",
   "execution_count": 24,
   "id": "e1470b5b",
   "metadata": {},
   "outputs": [],
   "source": [
    "book[\"Book-Title\"] = book[\"Book-Title\"].apply(lambda x:x.split())"
   ]
  },
  {
   "cell_type": "code",
   "execution_count": 25,
   "id": "5dec9af9",
   "metadata": {},
   "outputs": [],
   "source": [
    "book[\"Book-Author\"] = book[\"Book-Author\"].apply(lambda x:x.split())"
   ]
  },
  {
   "cell_type": "code",
   "execution_count": 26,
   "id": "ac5a5360",
   "metadata": {},
   "outputs": [],
   "source": [
    "book[\"Publisher\"] = book[\"Publisher\"].apply(lambda x:x.split())"
   ]
  },
  {
   "cell_type": "code",
   "execution_count": 27,
   "id": "716a5bca",
   "metadata": {},
   "outputs": [],
   "source": [
    "book['Year-Of-Publication'] = book['Year-Of-Publication'].apply(lambda x:x.split())"
   ]
  },
  {
   "cell_type": "code",
   "execution_count": 28,
   "id": "15aafb28",
   "metadata": {},
   "outputs": [
    {
     "data": {
      "text/html": [
       "<div>\n",
       "<style scoped>\n",
       "    .dataframe tbody tr th:only-of-type {\n",
       "        vertical-align: middle;\n",
       "    }\n",
       "\n",
       "    .dataframe tbody tr th {\n",
       "        vertical-align: top;\n",
       "    }\n",
       "\n",
       "    .dataframe thead th {\n",
       "        text-align: right;\n",
       "    }\n",
       "</style>\n",
       "<table border=\"1\" class=\"dataframe\">\n",
       "  <thead>\n",
       "    <tr style=\"text-align: right;\">\n",
       "      <th></th>\n",
       "      <th>ISBN</th>\n",
       "      <th>Book-Title</th>\n",
       "      <th>Book-Author</th>\n",
       "      <th>Year-Of-Publication</th>\n",
       "      <th>Publisher</th>\n",
       "      <th>Image-URL-L</th>\n",
       "    </tr>\n",
       "  </thead>\n",
       "  <tbody>\n",
       "    <tr>\n",
       "      <th>0</th>\n",
       "      <td>0195153448</td>\n",
       "      <td>[Classical, Mythology]</td>\n",
       "      <td>[Mark, P., O., Morford]</td>\n",
       "      <td>[2002]</td>\n",
       "      <td>[Oxford, University, Press]</td>\n",
       "      <td>http://images.amazon.com/images/P/0195153448.0...</td>\n",
       "    </tr>\n",
       "    <tr>\n",
       "      <th>1</th>\n",
       "      <td>0002005018</td>\n",
       "      <td>[Clara, Callan]</td>\n",
       "      <td>[Richard, Bruce, Wright]</td>\n",
       "      <td>[2001]</td>\n",
       "      <td>[HarperFlamingo, Canada]</td>\n",
       "      <td>http://images.amazon.com/images/P/0002005018.0...</td>\n",
       "    </tr>\n",
       "    <tr>\n",
       "      <th>2</th>\n",
       "      <td>0060973129</td>\n",
       "      <td>[Decision, in, Normandy]</td>\n",
       "      <td>[Carlo, D'Este]</td>\n",
       "      <td>[1991]</td>\n",
       "      <td>[HarperPerennial]</td>\n",
       "      <td>http://images.amazon.com/images/P/0060973129.0...</td>\n",
       "    </tr>\n",
       "    <tr>\n",
       "      <th>3</th>\n",
       "      <td>0374157065</td>\n",
       "      <td>[Flu:, The, Story, of, the, Great, Influenza, ...</td>\n",
       "      <td>[Gina, Bari, Kolata]</td>\n",
       "      <td>[1999]</td>\n",
       "      <td>[Farrar, Straus, Giroux]</td>\n",
       "      <td>http://images.amazon.com/images/P/0374157065.0...</td>\n",
       "    </tr>\n",
       "    <tr>\n",
       "      <th>4</th>\n",
       "      <td>0393045218</td>\n",
       "      <td>[The, Mummies, of, Urumchi]</td>\n",
       "      <td>[E., J., W., Barber]</td>\n",
       "      <td>[1999]</td>\n",
       "      <td>[W., W., Norton, &amp;amp;, Company]</td>\n",
       "      <td>http://images.amazon.com/images/P/0393045218.0...</td>\n",
       "    </tr>\n",
       "  </tbody>\n",
       "</table>\n",
       "</div>"
      ],
      "text/plain": [
       "         ISBN                                         Book-Title  \\\n",
       "0  0195153448                             [Classical, Mythology]   \n",
       "1  0002005018                                    [Clara, Callan]   \n",
       "2  0060973129                           [Decision, in, Normandy]   \n",
       "3  0374157065  [Flu:, The, Story, of, the, Great, Influenza, ...   \n",
       "4  0393045218                        [The, Mummies, of, Urumchi]   \n",
       "\n",
       "                Book-Author Year-Of-Publication  \\\n",
       "0   [Mark, P., O., Morford]              [2002]   \n",
       "1  [Richard, Bruce, Wright]              [2001]   \n",
       "2           [Carlo, D'Este]              [1991]   \n",
       "3      [Gina, Bari, Kolata]              [1999]   \n",
       "4      [E., J., W., Barber]              [1999]   \n",
       "\n",
       "                          Publisher  \\\n",
       "0       [Oxford, University, Press]   \n",
       "1          [HarperFlamingo, Canada]   \n",
       "2                 [HarperPerennial]   \n",
       "3          [Farrar, Straus, Giroux]   \n",
       "4  [W., W., Norton, &amp;, Company]   \n",
       "\n",
       "                                         Image-URL-L  \n",
       "0  http://images.amazon.com/images/P/0195153448.0...  \n",
       "1  http://images.amazon.com/images/P/0002005018.0...  \n",
       "2  http://images.amazon.com/images/P/0060973129.0...  \n",
       "3  http://images.amazon.com/images/P/0374157065.0...  \n",
       "4  http://images.amazon.com/images/P/0393045218.0...  "
      ]
     },
     "execution_count": 28,
     "metadata": {},
     "output_type": "execute_result"
    }
   ],
   "source": [
    "book.head()"
   ]
  },
  {
   "cell_type": "code",
   "execution_count": 29,
   "id": "0ec9eb63",
   "metadata": {},
   "outputs": [],
   "source": [
    "book['tags'] =  book[\"Book-Author\"] + book[\"Book-Title\"] + book[\"Publisher\"] + book['Year-Of-Publication']"
   ]
  },
  {
   "cell_type": "code",
   "execution_count": 30,
   "id": "c5e76cf7",
   "metadata": {},
   "outputs": [
    {
     "data": {
      "text/plain": [
       "['Mark',\n",
       " 'P.',\n",
       " 'O.',\n",
       " 'Morford',\n",
       " 'Classical',\n",
       " 'Mythology',\n",
       " 'Oxford',\n",
       " 'University',\n",
       " 'Press',\n",
       " '2002']"
      ]
     },
     "execution_count": 30,
     "metadata": {},
     "output_type": "execute_result"
    }
   ],
   "source": [
    "book['tags'][0]"
   ]
  },
  {
   "cell_type": "code",
   "execution_count": 31,
   "id": "a3578998",
   "metadata": {},
   "outputs": [
    {
     "data": {
      "text/html": [
       "<div>\n",
       "<style scoped>\n",
       "    .dataframe tbody tr th:only-of-type {\n",
       "        vertical-align: middle;\n",
       "    }\n",
       "\n",
       "    .dataframe tbody tr th {\n",
       "        vertical-align: top;\n",
       "    }\n",
       "\n",
       "    .dataframe thead th {\n",
       "        text-align: right;\n",
       "    }\n",
       "</style>\n",
       "<table border=\"1\" class=\"dataframe\">\n",
       "  <thead>\n",
       "    <tr style=\"text-align: right;\">\n",
       "      <th></th>\n",
       "      <th>ISBN</th>\n",
       "      <th>Book-Title</th>\n",
       "      <th>Book-Author</th>\n",
       "      <th>Year-Of-Publication</th>\n",
       "      <th>Publisher</th>\n",
       "      <th>Image-URL-L</th>\n",
       "      <th>tags</th>\n",
       "    </tr>\n",
       "  </thead>\n",
       "  <tbody>\n",
       "    <tr>\n",
       "      <th>0</th>\n",
       "      <td>0195153448</td>\n",
       "      <td>[Classical, Mythology]</td>\n",
       "      <td>[Mark, P., O., Morford]</td>\n",
       "      <td>[2002]</td>\n",
       "      <td>[Oxford, University, Press]</td>\n",
       "      <td>http://images.amazon.com/images/P/0195153448.0...</td>\n",
       "      <td>[Mark, P., O., Morford, Classical, Mythology, ...</td>\n",
       "    </tr>\n",
       "    <tr>\n",
       "      <th>1</th>\n",
       "      <td>0002005018</td>\n",
       "      <td>[Clara, Callan]</td>\n",
       "      <td>[Richard, Bruce, Wright]</td>\n",
       "      <td>[2001]</td>\n",
       "      <td>[HarperFlamingo, Canada]</td>\n",
       "      <td>http://images.amazon.com/images/P/0002005018.0...</td>\n",
       "      <td>[Richard, Bruce, Wright, Clara, Callan, Harper...</td>\n",
       "    </tr>\n",
       "  </tbody>\n",
       "</table>\n",
       "</div>"
      ],
      "text/plain": [
       "         ISBN              Book-Title               Book-Author  \\\n",
       "0  0195153448  [Classical, Mythology]   [Mark, P., O., Morford]   \n",
       "1  0002005018         [Clara, Callan]  [Richard, Bruce, Wright]   \n",
       "\n",
       "  Year-Of-Publication                    Publisher  \\\n",
       "0              [2002]  [Oxford, University, Press]   \n",
       "1              [2001]     [HarperFlamingo, Canada]   \n",
       "\n",
       "                                         Image-URL-L  \\\n",
       "0  http://images.amazon.com/images/P/0195153448.0...   \n",
       "1  http://images.amazon.com/images/P/0002005018.0...   \n",
       "\n",
       "                                                tags  \n",
       "0  [Mark, P., O., Morford, Classical, Mythology, ...  \n",
       "1  [Richard, Bruce, Wright, Clara, Callan, Harper...  "
      ]
     },
     "execution_count": 31,
     "metadata": {},
     "output_type": "execute_result"
    }
   ],
   "source": [
    "book.head(2)"
   ]
  },
  {
   "cell_type": "code",
   "execution_count": 32,
   "id": "0a2eecc9",
   "metadata": {},
   "outputs": [],
   "source": [
    "book_data = book.drop(columns = ['Book-Author','Year-Of-Publication','Publisher'])"
   ]
  },
  {
   "cell_type": "code",
   "execution_count": 33,
   "id": "0d8dbfb6",
   "metadata": {},
   "outputs": [
    {
     "data": {
      "text/html": [
       "<div>\n",
       "<style scoped>\n",
       "    .dataframe tbody tr th:only-of-type {\n",
       "        vertical-align: middle;\n",
       "    }\n",
       "\n",
       "    .dataframe tbody tr th {\n",
       "        vertical-align: top;\n",
       "    }\n",
       "\n",
       "    .dataframe thead th {\n",
       "        text-align: right;\n",
       "    }\n",
       "</style>\n",
       "<table border=\"1\" class=\"dataframe\">\n",
       "  <thead>\n",
       "    <tr style=\"text-align: right;\">\n",
       "      <th></th>\n",
       "      <th>ISBN</th>\n",
       "      <th>Book-Title</th>\n",
       "      <th>Image-URL-L</th>\n",
       "      <th>tags</th>\n",
       "    </tr>\n",
       "  </thead>\n",
       "  <tbody>\n",
       "    <tr>\n",
       "      <th>0</th>\n",
       "      <td>0195153448</td>\n",
       "      <td>[Classical, Mythology]</td>\n",
       "      <td>http://images.amazon.com/images/P/0195153448.0...</td>\n",
       "      <td>[Mark, P., O., Morford, Classical, Mythology, ...</td>\n",
       "    </tr>\n",
       "    <tr>\n",
       "      <th>1</th>\n",
       "      <td>0002005018</td>\n",
       "      <td>[Clara, Callan]</td>\n",
       "      <td>http://images.amazon.com/images/P/0002005018.0...</td>\n",
       "      <td>[Richard, Bruce, Wright, Clara, Callan, Harper...</td>\n",
       "    </tr>\n",
       "  </tbody>\n",
       "</table>\n",
       "</div>"
      ],
      "text/plain": [
       "         ISBN              Book-Title  \\\n",
       "0  0195153448  [Classical, Mythology]   \n",
       "1  0002005018         [Clara, Callan]   \n",
       "\n",
       "                                         Image-URL-L  \\\n",
       "0  http://images.amazon.com/images/P/0195153448.0...   \n",
       "1  http://images.amazon.com/images/P/0002005018.0...   \n",
       "\n",
       "                                                tags  \n",
       "0  [Mark, P., O., Morford, Classical, Mythology, ...  \n",
       "1  [Richard, Bruce, Wright, Clara, Callan, Harper...  "
      ]
     },
     "execution_count": 33,
     "metadata": {},
     "output_type": "execute_result"
    }
   ],
   "source": [
    "book_data.head(2)"
   ]
  },
  {
   "cell_type": "code",
   "execution_count": 34,
   "id": "07192295",
   "metadata": {},
   "outputs": [],
   "source": [
    "book_data['tags'] = book_data['tags'].apply(lambda x: \" \".join(x))"
   ]
  },
  {
   "cell_type": "code",
   "execution_count": 35,
   "id": "885b5928",
   "metadata": {},
   "outputs": [],
   "source": [
    "book_data['Book-Title'] = book_data['Book-Title'].apply(lambda x: \" \".join(x))"
   ]
  },
  {
   "cell_type": "code",
   "execution_count": 36,
   "id": "f09a3f15",
   "metadata": {},
   "outputs": [
    {
     "data": {
      "text/plain": [
       "'Mark P. O. Morford Classical Mythology Oxford University Press 2002'"
      ]
     },
     "execution_count": 36,
     "metadata": {},
     "output_type": "execute_result"
    }
   ],
   "source": [
    "book_data['tags'][0]"
   ]
  },
  {
   "cell_type": "code",
   "execution_count": 37,
   "id": "975627bb",
   "metadata": {},
   "outputs": [
    {
     "name": "stdout",
     "output_type": "stream",
     "text": [
      "<class 'pandas.core.frame.DataFrame'>\n",
      "Int64Index: 271354 entries, 0 to 271359\n",
      "Data columns (total 4 columns):\n",
      " #   Column       Non-Null Count   Dtype \n",
      "---  ------       --------------   ----- \n",
      " 0   ISBN         271354 non-null  object\n",
      " 1   Book-Title   271354 non-null  object\n",
      " 2   Image-URL-L  271354 non-null  object\n",
      " 3   tags         271354 non-null  object\n",
      "dtypes: object(4)\n",
      "memory usage: 18.4+ MB\n"
     ]
    }
   ],
   "source": [
    "book_data.info()"
   ]
  },
  {
   "cell_type": "code",
   "execution_count": 38,
   "id": "c1a86f32",
   "metadata": {},
   "outputs": [
    {
     "data": {
      "text/html": [
       "<div>\n",
       "<style scoped>\n",
       "    .dataframe tbody tr th:only-of-type {\n",
       "        vertical-align: middle;\n",
       "    }\n",
       "\n",
       "    .dataframe tbody tr th {\n",
       "        vertical-align: top;\n",
       "    }\n",
       "\n",
       "    .dataframe thead th {\n",
       "        text-align: right;\n",
       "    }\n",
       "</style>\n",
       "<table border=\"1\" class=\"dataframe\">\n",
       "  <thead>\n",
       "    <tr style=\"text-align: right;\">\n",
       "      <th></th>\n",
       "      <th>ISBN</th>\n",
       "      <th>Book-Title</th>\n",
       "      <th>Image-URL-L</th>\n",
       "      <th>tags</th>\n",
       "    </tr>\n",
       "  </thead>\n",
       "  <tbody>\n",
       "    <tr>\n",
       "      <th>0</th>\n",
       "      <td>0195153448</td>\n",
       "      <td>Classical Mythology</td>\n",
       "      <td>http://images.amazon.com/images/P/0195153448.0...</td>\n",
       "      <td>Mark P. O. Morford Classical Mythology Oxford ...</td>\n",
       "    </tr>\n",
       "    <tr>\n",
       "      <th>1</th>\n",
       "      <td>0002005018</td>\n",
       "      <td>Clara Callan</td>\n",
       "      <td>http://images.amazon.com/images/P/0002005018.0...</td>\n",
       "      <td>Richard Bruce Wright Clara Callan HarperFlamin...</td>\n",
       "    </tr>\n",
       "  </tbody>\n",
       "</table>\n",
       "</div>"
      ],
      "text/plain": [
       "         ISBN           Book-Title  \\\n",
       "0  0195153448  Classical Mythology   \n",
       "1  0002005018         Clara Callan   \n",
       "\n",
       "                                         Image-URL-L  \\\n",
       "0  http://images.amazon.com/images/P/0195153448.0...   \n",
       "1  http://images.amazon.com/images/P/0002005018.0...   \n",
       "\n",
       "                                                tags  \n",
       "0  Mark P. O. Morford Classical Mythology Oxford ...  \n",
       "1  Richard Bruce Wright Clara Callan HarperFlamin...  "
      ]
     },
     "execution_count": 38,
     "metadata": {},
     "output_type": "execute_result"
    }
   ],
   "source": [
    "book_data.head(2)"
   ]
  },
  {
   "cell_type": "code",
   "execution_count": 39,
   "id": "2651ef5a",
   "metadata": {},
   "outputs": [],
   "source": [
    "# from sklearn.feature_extraction.text import CountVectorizer\n",
    "# cv = CountVectorizer(max_features=500,stop_words='english')"
   ]
  },
  {
   "cell_type": "code",
   "execution_count": 40,
   "id": "1527b0d4",
   "metadata": {},
   "outputs": [],
   "source": [
    "# vector = cv.fit_transform(book_data['tags']).toarray()"
   ]
  },
  {
   "cell_type": "code",
   "execution_count": 41,
   "id": "2561f506",
   "metadata": {},
   "outputs": [],
   "source": [
    "# vector.shape"
   ]
  },
  {
   "cell_type": "code",
   "execution_count": 42,
   "id": "4fdc3bee",
   "metadata": {},
   "outputs": [],
   "source": [
    "# from sklearn.metrics.pairwise import cosine_similarity"
   ]
  },
  {
   "cell_type": "code",
   "execution_count": 43,
   "id": "e6dd93ec",
   "metadata": {},
   "outputs": [],
   "source": [
    "# book_data.info()"
   ]
  },
  {
   "cell_type": "code",
   "execution_count": 44,
   "id": "4cf1db18",
   "metadata": {},
   "outputs": [],
   "source": [
    "# vector.astype('int32')"
   ]
  },
  {
   "cell_type": "code",
   "execution_count": 45,
   "id": "cb25d05d",
   "metadata": {
    "scrolled": false
   },
   "outputs": [],
   "source": [
    "# vector.astype('float32')"
   ]
  },
  {
   "cell_type": "code",
   "execution_count": 46,
   "id": "04b58c5d",
   "metadata": {},
   "outputs": [],
   "source": [
    "# vector.size"
   ]
  },
  {
   "cell_type": "code",
   "execution_count": 47,
   "id": "0625f0f8",
   "metadata": {},
   "outputs": [],
   "source": [
    "# vector = vector.astype('int32')"
   ]
  },
  {
   "cell_type": "code",
   "execution_count": 48,
   "id": "974926c4",
   "metadata": {},
   "outputs": [],
   "source": [
    "# vector.dtype"
   ]
  },
  {
   "cell_type": "code",
   "execution_count": 49,
   "id": "6fa0498b",
   "metadata": {},
   "outputs": [],
   "source": [
    "# vector.size"
   ]
  },
  {
   "cell_type": "code",
   "execution_count": 50,
   "id": "0b0e98d4",
   "metadata": {},
   "outputs": [],
   "source": [
    "# vector[0]"
   ]
  },
  {
   "cell_type": "code",
   "execution_count": 51,
   "id": "9028eb6a",
   "metadata": {},
   "outputs": [],
   "source": [
    "book_data[\"Book-Title_mode\"] = book_data[\"Book-Title\"].str.replace(\"[^a-zA-Z0-9 ]\", \"\", regex=True)\n",
    "book_data[\"Book-Title_mode\"] = book_data[\"Book-Title_mode\"].str.lower()\n",
    "book_data[\"Book-Title_mode\"] = book_data[\"Book-Title_mode\"].str.replace(\"\\s+\", \" \", regex=True)\n",
    "book_data = book_data[book_data[\"Book-Title_mode\"].str.len() > 0]"
   ]
  },
  {
   "cell_type": "code",
   "execution_count": 52,
   "id": "94ce6fea",
   "metadata": {},
   "outputs": [],
   "source": [
    "from sklearn.feature_extraction.text import TfidfVectorizer\n",
    "vectorizer = TfidfVectorizer()"
   ]
  },
  {
   "cell_type": "code",
   "execution_count": 53,
   "id": "59b5987e",
   "metadata": {},
   "outputs": [],
   "source": [
    "tfidf = vectorizer.fit_transform(book_data[\"Book-Title_mode\"])"
   ]
  },
  {
   "cell_type": "code",
   "execution_count": 77,
   "id": "7b362ea7",
   "metadata": {},
   "outputs": [
    {
     "data": {
      "text/plain": [
       "dtype('float64')"
      ]
     },
     "execution_count": 77,
     "metadata": {},
     "output_type": "execute_result"
    }
   ],
   "source": [
    "tfidf.dtype"
   ]
  },
  {
   "cell_type": "code",
   "execution_count": 54,
   "id": "86f33dd0",
   "metadata": {},
   "outputs": [],
   "source": [
    "from sklearn.metrics.pairwise import cosine_similarity\n",
    "import numpy as np\n",
    "import re\n",
    "\n",
    "def show_image(val):\n",
    "    return '<a href=\"{}\"><img src=\"{}\" width=70></img></a>'.format(val, val)\n",
    "\n",
    "def search(query,vectorizer):\n",
    "    processed = re.sub(\"[^a-zA-Z0-9 ]\", \"\", query.lower())\n",
    "    query_vec = vectorizer.transform([query])\n",
    "    similarity = cosine_similarity(query_vec, tfidf).flatten()\n",
    "    indices = np.argpartition(similarity, -10)[-10:]\n",
    "    results = book_data.iloc[indices]\n",
    "    results = results.sort_values(\"ISBN\", ascending=False)\n",
    "    \n",
    "    return results.head(5).style.format({'Image-URL-L': show_image})"
   ]
  },
  {
   "cell_type": "code",
   "execution_count": 55,
   "id": "1f7653e6",
   "metadata": {
    "scrolled": true
   },
   "outputs": [
    {
     "data": {
      "text/html": [
       "<style type=\"text/css\">\n",
       "</style>\n",
       "<table id=\"T_99df9_\">\n",
       "  <thead>\n",
       "    <tr>\n",
       "      <th class=\"blank level0\" >&nbsp;</th>\n",
       "      <th class=\"col_heading level0 col0\" >ISBN</th>\n",
       "      <th class=\"col_heading level0 col1\" >Book-Title</th>\n",
       "      <th class=\"col_heading level0 col2\" >Image-URL-L</th>\n",
       "      <th class=\"col_heading level0 col3\" >tags</th>\n",
       "      <th class=\"col_heading level0 col4\" >Book-Title_mode</th>\n",
       "    </tr>\n",
       "  </thead>\n",
       "  <tbody>\n",
       "    <tr>\n",
       "      <th id=\"T_99df9_level0_row0\" class=\"row_heading level0 row0\" >248255</th>\n",
       "      <td id=\"T_99df9_row0_col0\" class=\"data row0 col0\" >0766011178</td>\n",
       "      <td id=\"T_99df9_row0_col1\" class=\"data row0 col1\" >International Space Station: A Space Mission (Countdown to Space)</td>\n",
       "      <td id=\"T_99df9_row0_col2\" class=\"data row0 col2\" ><a href=\"http://images.amazon.com/images/P/0766011178.01.LZZZZZZZ.jpg\"><img src=\"http://images.amazon.com/images/P/0766011178.01.LZZZZZZZ.jpg\" width=70></img></a></td>\n",
       "      <td id=\"T_99df9_row0_col3\" class=\"data row0 col3\" >Michael D. Cole International Space Station: A Space Mission (Countdown to Space) Enslow Publishers 1999</td>\n",
       "      <td id=\"T_99df9_row0_col4\" class=\"data row0 col4\" >international space station a space mission countdown to space</td>\n",
       "    </tr>\n",
       "    <tr>\n",
       "      <th id=\"T_99df9_level0_row1\" class=\"row_heading level0 row1\" >74847</th>\n",
       "      <td id=\"T_99df9_row1_col0\" class=\"data row1 col0\" >0749312025</td>\n",
       "      <td id=\"T_99df9_row1_col1\" class=\"data row1 col1\" >Space</td>\n",
       "      <td id=\"T_99df9_row1_col2\" class=\"data row1 col2\" ><a href=\"http://images.amazon.com/images/P/0749312025.01.LZZZZZZZ.jpg\"><img src=\"http://images.amazon.com/images/P/0749312025.01.LZZZZZZZ.jpg\" width=70></img></a></td>\n",
       "      <td id=\"T_99df9_row1_col3\" class=\"data row1 col3\" >James A. Michener Space Mandarin 1992</td>\n",
       "      <td id=\"T_99df9_row1_col4\" class=\"data row1 col4\" >space</td>\n",
       "    </tr>\n",
       "    <tr>\n",
       "      <th id=\"T_99df9_level0_row2\" class=\"row_heading level0 row2\" >129580</th>\n",
       "      <td id=\"T_99df9_row2_col0\" class=\"data row2 col0\" >0671836072</td>\n",
       "      <td id=\"T_99df9_row2_col1\" class=\"data row2 col1\" >GOLDEN SPACE</td>\n",
       "      <td id=\"T_99df9_row2_col2\" class=\"data row2 col2\" ><a href=\"http://images.amazon.com/images/P/0671836072.01.LZZZZZZZ.jpg\"><img src=\"http://images.amazon.com/images/P/0671836072.01.LZZZZZZZ.jpg\" width=70></img></a></td>\n",
       "      <td id=\"T_99df9_row2_col3\" class=\"data row2 col3\" >Pamela Sargent GOLDEN SPACE Pocket 1983</td>\n",
       "      <td id=\"T_99df9_row2_col4\" class=\"data row2 col4\" >golden space</td>\n",
       "    </tr>\n",
       "    <tr>\n",
       "      <th id=\"T_99df9_level0_row3\" class=\"row_heading level0 row3\" >86343</th>\n",
       "      <td id=\"T_99df9_row3_col0\" class=\"data row3 col0\" >0517547163</td>\n",
       "      <td id=\"T_99df9_row3_col1\" class=\"data row3 col1\" >Making Space</td>\n",
       "      <td id=\"T_99df9_row3_col2\" class=\"data row3 col2\" ><a href=\"http://images.amazon.com/images/P/0517547163.01.LZZZZZZZ.jpg\"><img src=\"http://images.amazon.com/images/P/0517547163.01.LZZZZZZZ.jpg\" width=70></img></a></td>\n",
       "      <td id=\"T_99df9_row3_col3\" class=\"data row3 col3\" >Sally Clark Making Space Random House Value Publishing 1983</td>\n",
       "      <td id=\"T_99df9_row3_col4\" class=\"data row3 col4\" >making space</td>\n",
       "    </tr>\n",
       "    <tr>\n",
       "      <th id=\"T_99df9_level0_row4\" class=\"row_heading level0 row4\" >13188</th>\n",
       "      <td id=\"T_99df9_row4_col0\" class=\"data row4 col0\" >0449203794</td>\n",
       "      <td id=\"T_99df9_row4_col1\" class=\"data row4 col1\" >Space</td>\n",
       "      <td id=\"T_99df9_row4_col2\" class=\"data row4 col2\" ><a href=\"http://images.amazon.com/images/P/0449203794.01.LZZZZZZZ.jpg\"><img src=\"http://images.amazon.com/images/P/0449203794.01.LZZZZZZZ.jpg\" width=70></img></a></td>\n",
       "      <td id=\"T_99df9_row4_col3\" class=\"data row4 col3\" >James A. Michener Space Fawcett Books 1988</td>\n",
       "      <td id=\"T_99df9_row4_col4\" class=\"data row4 col4\" >space</td>\n",
       "    </tr>\n",
       "  </tbody>\n",
       "</table>\n"
      ],
      "text/plain": [
       "<pandas.io.formats.style.Styler at 0x1a8f7aa3a30>"
      ]
     },
     "execution_count": 55,
     "metadata": {},
     "output_type": "execute_result"
    }
   ],
   "source": [
    "search(\" space \",vectorizer)"
   ]
  },
  {
   "cell_type": "code",
   "execution_count": 56,
   "id": "0cae6cd0",
   "metadata": {},
   "outputs": [],
   "source": [
    "liked_book = [\"0766011178\",\"2877306127\",\"225301883X\t\",\"0743412524\",\"0382180356\"]"
   ]
  },
  {
   "cell_type": "code",
   "execution_count": 61,
   "id": "f4b9a33f",
   "metadata": {},
   "outputs": [],
   "source": [
    "# book_rating.tail()"
   ]
  },
  {
   "cell_type": "code",
   "execution_count": 62,
   "id": "d9d85714",
   "metadata": {},
   "outputs": [],
   "source": [
    "# book_rating.info()"
   ]
  },
  {
   "cell_type": "code",
   "execution_count": 63,
   "id": "c7a078e7",
   "metadata": {},
   "outputs": [],
   "source": [
    "# book_rating.isnull().sum()"
   ]
  },
  {
   "cell_type": "code",
   "execution_count": 64,
   "id": "3f150e6c",
   "metadata": {},
   "outputs": [],
   "source": [
    "# book_rating['Book-Rating'] = book_rating['Book-Rating'].astype(str)"
   ]
  },
  {
   "cell_type": "code",
   "execution_count": 65,
   "id": "b72162be",
   "metadata": {},
   "outputs": [],
   "source": [
    "# book_rating['User-ID'] = book_rating['User-ID'].astype(str)"
   ]
  },
  {
   "cell_type": "code",
   "execution_count": 66,
   "id": "602a5c50",
   "metadata": {},
   "outputs": [],
   "source": [
    "# book_rating.info()\n"
   ]
  },
  {
   "cell_type": "code",
   "execution_count": null,
   "id": "eb8973a4",
   "metadata": {},
   "outputs": [],
   "source": []
  },
  {
   "cell_type": "code",
   "execution_count": null,
   "id": "c2d9bc62",
   "metadata": {},
   "outputs": [],
   "source": []
  },
  {
   "cell_type": "code",
   "execution_count": 67,
   "id": "054f0786",
   "metadata": {},
   "outputs": [],
   "source": [
    "# overlap_users = set()\n",
    "\n",
    "# with open(\"ratings.csv\",'r',encoding= 'latin-1') as f:\n",
    "#     while True:\n",
    "#         line = f.readline()\n",
    "#         if not line:\n",
    "#             break\n",
    "        \n",
    "       \n",
    "#         user_id, isbn,book_rating = line.strip().split(\";\")\n",
    "        \n",
    "#         if user_id in overlap_users:\n",
    "#             continue\n",
    "        \n",
    "#         if liked_book == isbn :\n",
    "#                 overlap_users.add(user_id)"
   ]
  },
  {
   "cell_type": "code",
   "execution_count": null,
   "id": "a55d422e",
   "metadata": {},
   "outputs": [],
   "source": []
  },
  {
   "cell_type": "code",
   "execution_count": null,
   "id": "6fa215c8",
   "metadata": {},
   "outputs": [],
   "source": []
  },
  {
   "cell_type": "code",
   "execution_count": null,
   "id": "282efe42",
   "metadata": {},
   "outputs": [],
   "source": []
  },
  {
   "cell_type": "code",
   "execution_count": null,
   "id": "872633ca",
   "metadata": {},
   "outputs": [],
   "source": []
  },
  {
   "cell_type": "code",
   "execution_count": null,
   "id": "f1db0001",
   "metadata": {},
   "outputs": [],
   "source": []
  },
  {
   "cell_type": "code",
   "execution_count": null,
   "id": "1dc26eac",
   "metadata": {},
   "outputs": [],
   "source": []
  },
  {
   "cell_type": "code",
   "execution_count": null,
   "id": "52abce68",
   "metadata": {},
   "outputs": [],
   "source": []
  },
  {
   "cell_type": "code",
   "execution_count": null,
   "id": "893017b0",
   "metadata": {},
   "outputs": [],
   "source": []
  },
  {
   "cell_type": "code",
   "execution_count": null,
   "id": "2a56e941",
   "metadata": {},
   "outputs": [],
   "source": []
  },
  {
   "cell_type": "code",
   "execution_count": null,
   "id": "a57095c1",
   "metadata": {},
   "outputs": [],
   "source": []
  },
  {
   "cell_type": "markdown",
   "id": "6c10b5dd",
   "metadata": {},
   "source": [
    "### "
   ]
  }
 ],
 "metadata": {
  "kernelspec": {
   "display_name": "Python 3 (ipykernel)",
   "language": "python",
   "name": "python3"
  },
  "language_info": {
   "codemirror_mode": {
    "name": "ipython",
    "version": 3
   },
   "file_extension": ".py",
   "mimetype": "text/x-python",
   "name": "python",
   "nbconvert_exporter": "python",
   "pygments_lexer": "ipython3",
   "version": "3.10.1"
  }
 },
 "nbformat": 4,
 "nbformat_minor": 5
}
